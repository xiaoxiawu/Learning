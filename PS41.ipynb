{
 "cells": [
  {
   "cell_type": "markdown",
   "metadata": {},
   "source": [
    "### Read Logistic_news data"
   ]
  },
  {
   "cell_type": "code",
   "execution_count": 36,
   "metadata": {
    "collapsed": false
   },
   "outputs": [],
   "source": [
    "import zipfile\n",
    "import pandas as pd\n",
    "import numpy as np\n",
    "import pylab as plt\n",
    "import os\n",
    "import matplotlib.pyplot as plt\n",
    "%matplotlib inline\n",
    "path='./PS4_data/logistic_news/'\n",
    "X_test=pd.read_csv(path+'X_test.csv',header=None, dtype=float).values\n",
    "X_train=pd.read_csv(path+'X_train.csv',header=None,dtype=float).values\n",
    "y_test=pd.read_csv(path+'y_test.csv',header=None,dtype=int).values\n",
    "y_train=pd.read_csv(path+'y_train.csv',header=None,dtype=int).values"
   ]
  },
  {
   "cell_type": "markdown",
   "metadata": {},
   "source": [
    "### Use GD to comput Beta\n",
    "\n",
    "Each class c ∈ 1, 2, . . . , C has a parameter bc, and b ∈ RnC is the vector of concatenated parameters b = [b⊤1 ,b⊤2 ,...,b⊤C]⊤. Let X ∈ RN×n be the data matrix where each sample x⊤i is a row and N is the number of samples. The maximum likelihood approach seeks to find the parameter b which maximizes the likelihood of the classes given the input data and the model:\n",
    "\n",
    "$\n",
    "\\begin{equation} \n",
    "minl(\\beta)=−logP(y|X,\\beta)(\\text{logistic regression loss})=\\sum_{i=1,...,N}\\bigg({\\beta^{T}x_{i}+ log\\sum_{j=1,...,C}\n",
    "exp{-\\beta_{j}^{T}}x_{i}}\\bigg)\n",
    "\\end{equation}\n",
    "$\n",
    "\n",
    "Notice that the gradient of  $l(\\beta_{j}=k)$ is\n",
    "\n",
    "$\n",
    "\\begin{equation} \n",
    "\\bigtriangledown l(\\beta_{j}=k)=\\bigg(\\sum_{i=1,...,N}1_{\\beta_{i}=k}x_{i}-\\frac{exp(-\\beta_{k}^{T}x_{i})}{\\sum_{j=1,...,C} exp{-\\beta_{j}^{T}}x_{i}}x_{i}\\bigg)\n",
    "\\end{equation}\n",
    "$\n"
   ]
  },
  {
   "cell_type": "code",
   "execution_count": 170,
   "metadata": {
    "collapsed": false
   },
   "outputs": [],
   "source": [
    "##update beta\n",
    "'''\n",
    "def GD(X,y,beta,mu,gamma):\n",
    "    C=len(np.unique(y_train))\n",
    "    n=X.shape[1]#dimension of the data\n",
    "    Gra_Lbeta=np.zeros((n,C))\n",
    "    L_b1,L_b2=0,0\n",
    "    for i in range(C):           \n",
    "        index=np.where(y==i)[1]\n",
    "        exp_bx=np.zeros(len(index))\n",
    "        xexp_bx=np.zeros((len(index),X.shape[1]))\n",
    "        for j in range(len(index)):\n",
    "            ID=index[j]\n",
    "            exp_bx[j]=np.exp((-1)*np.dot(beta[:,i],X[ID,:]))\n",
    "        xx=(1-exp_bx/float(np.sum(exp_bx)))*X[index,:].T\n",
    "        Gra_Lbeta[:,i]=1.0/n*np.sum(xx,1)###update Beta for each class\n",
    "        ######calculate L(b)\n",
    "        L_b1+=np.sum(np.dot(X[index,:],beta[:,i]))\n",
    "        L_b2+=np.sum(np.log(np.sum(exp_bx)))\n",
    "    ###Regularization term\n",
    "    reg=mu*2*beta\n",
    "    Lb=L_b1+L_b2+mu*np.linalg.norm(beta)\n",
    "    beta=beta-gamma*(Gra_Lbeta+reg)\n",
    "    return beta,Lb\n",
    "\n",
    "def update_loop(X_train,y_train,gamma=0.01,iter=100):\n",
    "    beta=np.random.rand(n,C)\n",
    "    #beta=np.random.rand(X1.shape[1])\n",
    "    Lb=np.zeros(iter)\n",
    "    i=0\n",
    "    mu=1/2001.0\n",
    "    while i <= iter-1:\n",
    "        beta,v=GD(X_train,y_train,beta,mu,0.01)\n",
    "        Lb[i]=v\n",
    "        i+=1\n",
    "        print i,v\n",
    "    return Lb\n",
    "'''\n",
    "#beta=np.random.rand(n,C)\n",
    "#beta,Lb=GD(X_train,y_train,beta,0.01)"
   ]
  },
  {
   "cell_type": "code",
   "execution_count": 239,
   "metadata": {
    "collapsed": false
   },
   "outputs": [],
   "source": [
    "def fit_GD(X,y,b,mu,gamma):\n",
    "    temp_o=np.ones([X.shape[0],1])\n",
    "    X=np.c_[temp_o,X] # add one columns of all ones\n",
    "    class_set=np.unique(y)\n",
    "    c=len(class_set)\n",
    "    n=X.shape[0] # sample number\n",
    "    d=X.shape[1] # feature number\n",
    "    #b=np.zeros((c,d)) \n",
    "    #print c, d\n",
    "    A_choose=np.zeros((c,n)) # cxn\n",
    "    for i in range(c):\n",
    "        flag=(y==class_set[i])[0]\n",
    "        A_choose[i,flag]=1\n",
    "    term1=A_choose.dot(X)\n",
    "    #print b.shape,X.transpose().shape\n",
    "    temp1=np.exp(-1.0*(b.dot(X.transpose())))\n",
    "    temp2=temp1.sum(axis=0)\n",
    "    A_weighting=temp1/temp2\n",
    "    term2=-1.0*(A_weighting.dot(X))\n",
    "    \n",
    "    term3=2*mu*b\n",
    "    delta_b=(term1+term2)/float(n)+term3\n",
    "    \n",
    "    b=b-gamma*delta_b\n",
    "    \n",
    "    f_obj1=np.sum(np.sum(A_choose*(b.dot(X.transpose())),axis=1))\n",
    "    f_obj2=np.sum(np.log(np.exp(-1.0*(b.dot(X.transpose()))).sum(axis=0)))\n",
    "    #f_obj3=mu*np.sum((b*b).sum(axis=0))\n",
    "    f_obj=(f_obj1+f_obj2)/float(n)#+f_obj3#unregularized regression loss\n",
    "    \n",
    "    return b, f_obj\n",
    "\n",
    "def logistic_loss(X,y,b):\n",
    "    temp_o=np.ones([X.shape[0],1])\n",
    "    X=np.c_[temp_o,X] # add one columns of all ones\n",
    "    class_set=np.unique(y)\n",
    "    c=len(class_set)\n",
    "    n=X.shape[0] # sample number\n",
    "    d=X.shape[1] # feature number\n",
    "    #b=np.zeros((c,d)) \n",
    "    #print c, d\n",
    "    A_choose=np.zeros((c,n)) # cxn\n",
    "    for i in range(c):\n",
    "        flag=(y==class_set[i])[0]\n",
    "        A_choose[i,flag]=1\n",
    "\n",
    "    f_obj1=np.sum(np.sum(A_choose*(b.dot(X.transpose())),axis=1))\n",
    "    f_obj2=np.sum(np.log(np.exp(-1.0*(b.dot(X.transpose()))).sum(axis=0)))\n",
    "    #f_obj3=mu*np.sum((b*b).sum(axis=0))\n",
    "    f_obj=(f_obj1+f_obj2)/float(n)#+f_obj3#unregularized regression loss\n",
    "    return f_obj\n",
    "    \n",
    "def update_loop(X_train,y_train,X_test,y_test,mu=1,gamma=0.01,iter=100):\n",
    "    X=X_train\n",
    "    y=y_train\n",
    "    temp_o=np.ones([X.shape[0],1])\n",
    "    X1=np.c_[temp_o,X] # add one columns of all ones\n",
    "    c=len(class_set)\n",
    "    n=X1.shape[0] # sample number\n",
    "    d=X1.shape[1] # feature number\n",
    "    #b=np.zeros((c,d)) \n",
    "    #beta=np.random.rand((c,d)) \n",
    "    beta=np.random.rand(c,d)\n",
    "    #beta=np.random.rand(X1.shape[1])\n",
    "    train_loss=np.zeros(iter)\n",
    "    test_loss=np.zeros(iter)\n",
    "    i=0\n",
    "    #mu=1/100.0\n",
    "    while i <= iter-1:\n",
    "        beta,v=fit_GD(X,y,beta,mu,0.01)\n",
    "        train_loss[i]=v\n",
    "        vv=logistic_loss(X_test,y_test,beta)\n",
    "        test_loss[i]=vv\n",
    "        #train_pre=predict(X_train,beta)\n",
    "        #test_pre=predict(X_test,beta)\n",
    "        ###performance of the solution on the testing set\n",
    "        i+=1\n",
    "        #print i,v,vv\n",
    "    return train_loss,test_loss"
   ]
  },
  {
   "cell_type": "markdown",
   "metadata": {},
   "source": [
    "### (a)\n",
    "Find the value of μ that gives you (approximately) the best generalization performance (error on test set). You obtain this by solving the the above optimization problem for different values of μ, and then checking the performance of the solution on the testing set, using the unregularized logistic regression loss. Note that this is not a question about an optimization method.\n",
    "What value do you get for the test loss after convergence?\n",
    "### (b)\n",
    "Plot the loss against iterations for both the test and training data using the value of μ from part (a)."
   ]
  },
  {
   "cell_type": "code",
   "execution_count": 241,
   "metadata": {
    "collapsed": false
   },
   "outputs": [],
   "source": [
    "x=update_loop(X_train,y_train,X_test,y_test,mu=1.0,gamma=0.1,iter=1000)"
   ]
  },
  {
   "cell_type": "code",
   "execution_count": 260,
   "metadata": {
    "collapsed": false
   },
   "outputs": [
    {
     "data": {
      "image/png": "[encoded data removed]",
      "text/plain": [
       "<matplotlib.figure.Figure at 0x11782bad0>"
      ]
     },
     "metadata": {},
     "output_type": "display_data"
    }
   ],
   "source": [
    "def plot_min(x,filename):\n",
    "    plt.figure(figsize=(5,5))\n",
    "    plt.plot(range(x[0].shape[0]),x[0],color='r',label='train')\n",
    "    plt.plot(range(x[1].shape[0]),x[1],color='b',label='test')\n",
    "    #plt.plot(range(b1.shape[0]),b1,color='r')\n",
    "    plt.ylabel(\"average logistic_regression_loss\") \n",
    "    plt.xlabel(\"Interation n\") \n",
    "    plt.title(\"mu=1\")\n",
    "    plt.title(filename)\n",
    "    plt.legend()\n",
    "    plt.show()\n",
    "plot_min([x[0][:100], x[1][:100]],'mu=1')\n",
    "#plot_min(x_mu01,filename)\n",
    "#plot_min(x_mu10,filename)"
   ]
  },
  {
   "cell_type": "code",
   "execution_count": 261,
   "metadata": {
    "collapsed": false
   },
   "outputs": [],
   "source": [
    "x_mu01=update_loop(X_train,y_train,X_test,y_test,mu=0.1,gamma=0.1,iter=1000)\n",
    "x_mu10=update_loop(X_train,y_train,X_test,y_test,mu=10.0,gamma=0.1,iter=1000)"
   ]
  },
  {
   "cell_type": "code",
   "execution_count": 264,
   "metadata": {
    "collapsed": false
   },
   "outputs": [
    {
     "data": {
      "image/png": "[encoded data removed]",
      "text/plain": [
       "<matplotlib.figure.Figure at 0x11782cb50>"
      ]
     },
     "metadata": {},
     "output_type": "display_data"
    },
    {
     "data": {
      "image/png": "[encoded data removed]",
      "text/plain": [
       "<matplotlib.figure.Figure at 0x11782ce90>"
      ]
     },
     "metadata": {},
     "output_type": "display_data"
    },
    {
     "data": {
      "image/png": "[encoded data removed]",
      "text/plain": [
       "<matplotlib.figure.Figure at 0x117151790>"
      ]
     },
     "metadata": {},
     "output_type": "display_data"
    }
   ],
   "source": [
    "plot_min(x,'mu=1')\n",
    "plot_min(x_mu01,'mu=0.1')\n",
    "plot_min(x_mu10,'mu=10')"
   ]
  },
  {
   "cell_type": "markdown",
   "metadata": {},
   "source": [
    "### (c)(d)\n",
    "(c)How do the two algorithms differ in performance, and how does this change as you decrease μ? two algorithems :gradient and Nesterov’s accelerated gradient method\n",
    "https://blogs.princeton.edu/imabandit/2013/04/01/acceleratedgradientdescent/\n",
    "https://blogs.princeton.edu/imabandit/2015/06/30/revisiting-nesterovs-acceleration/\n",
    "\n",
    "(d)Explain the difference in convergence in terms of the condition number of the problem (note that the loss is μ-strongly convex)."
   ]
  },
  {
   "cell_type": "code",
   "execution_count": 273,
   "metadata": {
    "collapsed": true
   },
   "outputs": [],
   "source": [
    "def fit_GD_Nesterov(X,y,b,mu,lamda_s,y_s,Beta):\n",
    "    temp_o=np.ones([X.shape[0],1])\n",
    "    X=np.c_[temp_o,X] # add one columns of all ones\n",
    "    class_set=np.unique(y)\n",
    "    c=len(class_set)\n",
    "    n=X.shape[0] # sample number\n",
    "    d=X.shape[1] # feature number\n",
    "    #b=np.zeros((c,d)) \n",
    "    #print c, d\n",
    "    A_choose=np.zeros((c,n)) # cxn\n",
    "    for i in range(c):\n",
    "        flag=(y==class_set[i])[0]\n",
    "        A_choose[i,flag]=1\n",
    "    term1=A_choose.dot(X)\n",
    "    #print b.shape,X.transpose().shape\n",
    "    temp1=np.exp(-1.0*(b.dot(X.transpose())))\n",
    "    temp2=temp1.sum(axis=0)\n",
    "    A_weighting=temp1/temp2\n",
    "    term2=-1.0*(A_weighting.dot(X))\n",
    "    \n",
    "    term3=2*mu*b\n",
    "    delta_b=(term1+term2)/float(n)+term3\n",
    "    \n",
    "    ###Nesterov_update\n",
    "    lamda_s1=(1+np.sqrt(1+4*lamda_s**2))/2\n",
    "    gamma_s=(1-lamda_s)/float(lamda_s1)\n",
    "    \n",
    "    y_s1=b-1.0/Beta*delta_b\n",
    "    b=(1-gamma_s)*y_s1+gamma_s*y_s\n",
    "    \n",
    "    f_obj1=np.sum(np.sum(A_choose*(b.dot(X.transpose())),axis=1))\n",
    "    f_obj2=np.sum(np.log(np.exp(-1.0*(b.dot(X.transpose()))).sum(axis=0)))\n",
    "    #f_obj3=mu*np.sum((b*b).sum(axis=0))\n",
    "    f_obj=(f_obj1+f_obj2)/float(n)#+f_obj3#unregularized regression loss\n",
    "    \n",
    "    return b,f_obj,lamda_s1,y_s1\n",
    "\n",
    "    \n",
    "def update_loop_Nesterov(X_train,y_train,X_test,y_test,mu=1,iter=100):\n",
    "    X=X_train\n",
    "    y=y_train\n",
    "    temp_o=np.ones([X.shape[0],1])\n",
    "    X1=np.c_[temp_o,X] # add one columns of all ones\n",
    "    c=len(class_set)\n",
    "    n=X1.shape[0] # sample number\n",
    "    d=X1.shape[1] # feature number\n",
    "    #b=np.zeros((c,d)) \n",
    "    #beta=np.random.rand((c,d)) \n",
    "    b=np.random.rand(c,d)\n",
    "    #beta=np.random.rand(X1.shape[1])\n",
    "    train_loss=np.zeros(iter)\n",
    "    test_loss=np.zeros(iter)\n",
    "    i=0\n",
    "    #mu=1/100.0\n",
    "    lamda_s=0\n",
    "    y_s=b\n",
    "    Beta=10\n",
    "    while i <= iter-1:\n",
    "        b,v,lamda_s,y_s=fit_GD_Nesterov(X,y,b,mu,lamda_s,y_s,Beta)\n",
    "        train_loss[i]=v\n",
    "        vv=logistic_loss(X_test,y_test,b)\n",
    "        test_loss[i]=vv\n",
    "        #train_pre=predict(X_train,beta)\n",
    "        #test_pre=predict(X_test,beta)\n",
    "        ###performance of the solution on the testing set\n",
    "        i+=1\n",
    "        print i,v,vv\n",
    "    return train_loss,test_loss"
   ]
  },
  {
   "cell_type": "code",
   "execution_count": 275,
   "metadata": {
    "collapsed": false
   },
   "outputs": [
    {
     "data": {
      "image/png": "[encoded data removed]",
      "text/plain": [
       "<matplotlib.figure.Figure at 0x119d675d0>"
      ]
     },
     "metadata": {},
     "output_type": "display_data"
    }
   ],
   "source": [
    "plot_min(x_Nesterov,'Nesterov: mu=0.01')\n"
   ]
  },
  {
   "cell_type": "code",
   "execution_count": 274,
   "metadata": {
    "collapsed": false
   },
   "outputs": [
    {
     "name": "stdout",
     "output_type": "stream",
     "text": [
      "1 3.15268393312 3.14756968574\n",
      "2 3.14896880113 3.14394568455\n",
      "3 3.14435109178 3.13944324451\n",
      "4 3.13894769483 3.13417765305\n",
      "5 3.13287282501 3.12826168093\n",
      "6 3.12624025925 3.12180771225\n",
      "7 3.11916267662 3.11492704899\n",
      "8 3.11175016058 3.10772840187\n",
      "9 3.10410855082 3.10031623953\n",
      "10 3.09633792651 3.092789272\n",
      "11 3.08853134275 3.08523918763\n",
      "12 3.08077386385 3.07774968626\n",
      "13 3.07314189436 3.07039580924\n",
      "14 3.06570278379 3.06324354249\n",
      "15 3.05851466809 3.05634965603\n",
      "16 3.05162650563 3.04976173806\n",
      "17 3.04507826521 3.04351838186\n",
      "18 3.03890122813 3.03764948758\n",
      "19 3.03311837198 3.03217664711\n",
      "20 3.02774481132 3.02711358751\n",
      "21 3.02278827804 3.02246665569\n",
      "22 3.01824963087 3.01823533401\n",
      "23 3.01412338955 3.01441278224\n",
      "24 3.01039829384 3.01098640581\n",
      "25 3.00705789013 3.00793845309\n",
      "26 3.00408115007 3.00524664563\n",
      "27 3.00144312506 3.00288484496\n",
      "28 2.99911563849 3.00082375762\n",
      "29 2.99706801473 2.99903167668\n",
      "30 2.99526783949 2.99747525441\n",
      "31 2.99368174169 2.99612029544\n",
      "32 2.99227618217 2.99493255556\n",
      "33 2.99101823034 2.99387852692\n",
      "34 2.98987630644 2.99292618692\n",
      "35 2.98882086549 2.99204568666\n",
      "36 2.98782499846 2.99120995429\n",
      "37 2.98686492851 2.9903951911\n",
      "38 2.98592038352 2.98958124142\n",
      "39 2.98497483177 2.98875182342\n",
      "40 2.98401557438 2.98789461452\n",
      "41 2.98303369544 2.98700119249\n",
      "42 2.98202387833 2.98606684113\n",
      "43 2.98098410351 2.98509023608\n",
      "44 2.97991524895 2.98407303229\n",
      "45 2.97882061825 2.98301937844\n",
      "46 2.97770542389 2.98193538634\n",
      "47 2.97657625343 2.98082858307\n",
      "48 2.9754405448 2.97970737269\n",
      "49 2.97430609414 2.97858053093\n",
      "50 2.97318061526 2.97745675224\n",
      "51 2.9720713651 2.97634426372\n",
      "52 2.97098484446 2.97525051535\n",
      "53 2.96992657802 2.97418195059\n",
      "54 2.96890097347 2.97314385716\n",
      "55 2.9679112552 2.97214029354\n",
      "56 2.96695946519 2.97117408374\n",
      "57 2.96604652127 2.97024687058\n",
      "58 2.96517232172 2.96935921624\n",
      "59 2.96433588431 2.96851073833\n",
      "60 2.96353550837 2.96770026971\n",
      "61 2.96276894858 2.96692603106\n",
      "62 2.96203359089 2.96618580617\n",
      "63 2.96132662183 2.96547711146\n",
      "64 2.96064518438 2.96479735254\n",
      "65 2.95998651502 2.96414396263\n",
      "66 2.95934805818 2.96351451894\n",
      "67 2.95872755611 2.96290683479\n",
      "68 2.95812311304 2.9623190266\n",
      "69 2.95753323441 2.96174955625\n",
      "70 2.95695684218 2.96119724995\n",
      "71 2.95639326886 2.96066129606\n",
      "72 2.95584223283 2.96014122455\n",
      "73 2.95530379838 2.95963687138\n",
      "74 2.95477832397 2.95914833133\n",
      "75 2.9542664023 2.95867590284\n",
      "76 2.9537687959 2.95822002843\n",
      "77 2.95328637134 2.95778123391\n",
      "78 2.95282003553 2.95736006958\n",
      "79 2.9523706764 2.95695705605\n",
      "80 2.95193911058 2.95657263671\n",
      "81 2.95152603961 2.95620713879\n",
      "82 2.9511320159 2.95586074408\n",
      "83 2.95075741933 2.95553346983\n",
      "84 2.95040244435 2.95522516014\n",
      "85 2.9500670975 2.95493548731\n",
      "86 2.94975120436 2.95466396231\n",
      "87 2.94945442481 2.95440995326\n",
      "88 2.9491762752 2.95417271018\n",
      "89 2.9489161555 2.95395139456\n",
      "90 2.94867337985 2.95374511162\n",
      "91 2.94844720844 2.95355294357\n",
      "92 2.94823687906 2.95337398209\n",
      "93 2.94804163672 2.95320735823\n",
      "94 2.94786075978 2.95305226857\n",
      "95 2.94769358164 2.95290799647\n",
      "96 2.94753950726 2.95277392757\n",
      "97 2.94739802382 2.95264955933\n",
      "98 2.94726870578 2.9525345044\n",
      "99 2.94715121429 2.95242848816\n",
      "100 2.94704529167 2.95233134108\n"
     ]
    }
   ],
   "source": [
    "x_Nesterov=update_loop_Nesterov(X_train,y_train,X_test,y_test,mu=0.01,iter=100)"
   ]
  }
 ],
 "metadata": {
  "kernelspec": {
   "display_name": "Python 2",
   "language": "python",
   "name": "python2"
  },
  "language_info": {
   "codemirror_mode": {
    "name": "ipython",
    "version": 2
   },
   "file_extension": ".py",
   "mimetype": "text/x-python",
   "name": "python",
   "nbconvert_exporter": "python",
   "pygments_lexer": "ipython2",
   "version": "2.7.12"
  }
 },
 "nbformat": 4,
 "nbformat_minor": 0
}
